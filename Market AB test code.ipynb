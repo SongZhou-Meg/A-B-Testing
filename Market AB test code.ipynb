{
 "cells": [
  {
   "cell_type": "code",
   "execution_count": 17,
   "id": "fe4c21ef",
   "metadata": {},
   "outputs": [],
   "source": [
    "import pandas as pd\n",
    "import numpy as np\n",
    "\n",
    "\n",
    "import math\n",
    "from statsmodels.stats.proportion import proportions_ztest\n",
    "from scipy import stats\n",
    "\n",
    "import matplotlib.pylab as plt\n",
    "%matplotlib inline\n",
    "\n",
    "import seaborn as sns\n",
    "import warnings\n",
    "warnings.filterwarnings('ignore')"
   ]
  },
  {
   "cell_type": "code",
   "execution_count": 6,
   "id": "46b68ee2",
   "metadata": {},
   "outputs": [],
   "source": [
    "df = pd.read_csv('marketing_AB.csv')"
   ]
  },
  {
   "cell_type": "code",
   "execution_count": 8,
   "id": "c1a02bd4",
   "metadata": {},
   "outputs": [
    {
     "data": {
      "text/html": [
       "<div>\n",
       "<style scoped>\n",
       "    .dataframe tbody tr th:only-of-type {\n",
       "        vertical-align: middle;\n",
       "    }\n",
       "\n",
       "    .dataframe tbody tr th {\n",
       "        vertical-align: top;\n",
       "    }\n",
       "\n",
       "    .dataframe thead th {\n",
       "        text-align: right;\n",
       "    }\n",
       "</style>\n",
       "<table border=\"1\" class=\"dataframe\">\n",
       "  <thead>\n",
       "    <tr style=\"text-align: right;\">\n",
       "      <th></th>\n",
       "      <th>Unnamed: 0</th>\n",
       "      <th>user id</th>\n",
       "      <th>test group</th>\n",
       "      <th>converted</th>\n",
       "      <th>total ads</th>\n",
       "      <th>most ads day</th>\n",
       "      <th>most ads hour</th>\n",
       "    </tr>\n",
       "  </thead>\n",
       "  <tbody>\n",
       "    <tr>\n",
       "      <th>0</th>\n",
       "      <td>0</td>\n",
       "      <td>1069124</td>\n",
       "      <td>ad</td>\n",
       "      <td>False</td>\n",
       "      <td>130</td>\n",
       "      <td>Monday</td>\n",
       "      <td>20</td>\n",
       "    </tr>\n",
       "    <tr>\n",
       "      <th>1</th>\n",
       "      <td>1</td>\n",
       "      <td>1119715</td>\n",
       "      <td>ad</td>\n",
       "      <td>False</td>\n",
       "      <td>93</td>\n",
       "      <td>Tuesday</td>\n",
       "      <td>22</td>\n",
       "    </tr>\n",
       "    <tr>\n",
       "      <th>2</th>\n",
       "      <td>2</td>\n",
       "      <td>1144181</td>\n",
       "      <td>ad</td>\n",
       "      <td>False</td>\n",
       "      <td>21</td>\n",
       "      <td>Tuesday</td>\n",
       "      <td>18</td>\n",
       "    </tr>\n",
       "    <tr>\n",
       "      <th>3</th>\n",
       "      <td>3</td>\n",
       "      <td>1435133</td>\n",
       "      <td>ad</td>\n",
       "      <td>False</td>\n",
       "      <td>355</td>\n",
       "      <td>Tuesday</td>\n",
       "      <td>10</td>\n",
       "    </tr>\n",
       "    <tr>\n",
       "      <th>4</th>\n",
       "      <td>4</td>\n",
       "      <td>1015700</td>\n",
       "      <td>ad</td>\n",
       "      <td>False</td>\n",
       "      <td>276</td>\n",
       "      <td>Friday</td>\n",
       "      <td>14</td>\n",
       "    </tr>\n",
       "  </tbody>\n",
       "</table>\n",
       "</div>"
      ],
      "text/plain": [
       "   Unnamed: 0  user id test group  converted  total ads most ads day  \\\n",
       "0           0  1069124         ad      False        130       Monday   \n",
       "1           1  1119715         ad      False         93      Tuesday   \n",
       "2           2  1144181         ad      False         21      Tuesday   \n",
       "3           3  1435133         ad      False        355      Tuesday   \n",
       "4           4  1015700         ad      False        276       Friday   \n",
       "\n",
       "   most ads hour  \n",
       "0             20  \n",
       "1             22  \n",
       "2             18  \n",
       "3             10  \n",
       "4             14  "
      ]
     },
     "execution_count": 8,
     "metadata": {},
     "output_type": "execute_result"
    }
   ],
   "source": [
    "df.head()"
   ]
  },
  {
   "cell_type": "code",
   "execution_count": 9,
   "id": "75f24150",
   "metadata": {},
   "outputs": [
    {
     "name": "stdout",
     "output_type": "stream",
     "text": [
      "<class 'pandas.core.frame.DataFrame'>\n",
      "RangeIndex: 588101 entries, 0 to 588100\n",
      "Data columns (total 7 columns):\n",
      " #   Column         Non-Null Count   Dtype \n",
      "---  ------         --------------   ----- \n",
      " 0   Unnamed: 0     588101 non-null  int64 \n",
      " 1   user id        588101 non-null  int64 \n",
      " 2   test group     588101 non-null  object\n",
      " 3   converted      588101 non-null  bool  \n",
      " 4   total ads      588101 non-null  int64 \n",
      " 5   most ads day   588101 non-null  object\n",
      " 6   most ads hour  588101 non-null  int64 \n",
      "dtypes: bool(1), int64(4), object(2)\n",
      "memory usage: 27.5+ MB\n"
     ]
    }
   ],
   "source": [
    "df.info()"
   ]
  },
  {
   "cell_type": "code",
   "execution_count": 11,
   "id": "6d4cd9d3",
   "metadata": {},
   "outputs": [],
   "source": [
    "# Drop a column\n",
    "df.drop(columns=['Unnamed: 0'], inplace=True)\n",
    "# Let us rename columns\n",
    "df.columns = ['user_id', 'test_group', 'converted', 'total_ads',\n",
    "              'most_ads_day', 'most_ads_hour']\n",
    "# Let's rename 'ad' and 'psa' to 'treatmen' and 'control'\n",
    "df.replace({'test_group':{'ad':'treatment',\n",
    "                          'psa':'control'}}, inplace=True)\n",
    "# Calculate conversion rate/proportion per user group\n",
    "df_gr = df.groupby('test_group').agg({'converted':'sum',\n",
    "                                 'user_id':'nunique'}).reset_index()\n",
    "df_gr.columns = ['test_group', 'converted', 'unique_users']\n",
    "df_gr['proportion'] = (df_gr['converted']) / df_gr['unique_users']"
   ]
  },
  {
   "cell_type": "code",
   "execution_count": 12,
   "id": "a95e177f",
   "metadata": {},
   "outputs": [
    {
     "data": {
      "text/html": [
       "<div>\n",
       "<style scoped>\n",
       "    .dataframe tbody tr th:only-of-type {\n",
       "        vertical-align: middle;\n",
       "    }\n",
       "\n",
       "    .dataframe tbody tr th {\n",
       "        vertical-align: top;\n",
       "    }\n",
       "\n",
       "    .dataframe thead th {\n",
       "        text-align: right;\n",
       "    }\n",
       "</style>\n",
       "<table border=\"1\" class=\"dataframe\">\n",
       "  <thead>\n",
       "    <tr style=\"text-align: right;\">\n",
       "      <th></th>\n",
       "      <th>test_group</th>\n",
       "      <th>converted</th>\n",
       "      <th>unique_users</th>\n",
       "      <th>proportion</th>\n",
       "    </tr>\n",
       "  </thead>\n",
       "  <tbody>\n",
       "    <tr>\n",
       "      <th>0</th>\n",
       "      <td>control</td>\n",
       "      <td>420</td>\n",
       "      <td>23524</td>\n",
       "      <td>0.017854</td>\n",
       "    </tr>\n",
       "    <tr>\n",
       "      <th>1</th>\n",
       "      <td>treatment</td>\n",
       "      <td>14423</td>\n",
       "      <td>564577</td>\n",
       "      <td>0.025547</td>\n",
       "    </tr>\n",
       "  </tbody>\n",
       "</table>\n",
       "</div>"
      ],
      "text/plain": [
       "  test_group  converted  unique_users  proportion\n",
       "0    control        420         23524    0.017854\n",
       "1  treatment      14423        564577    0.025547"
      ]
     },
     "execution_count": 12,
     "metadata": {},
     "output_type": "execute_result"
    }
   ],
   "source": [
    "df_gr"
   ]
  },
  {
   "cell_type": "markdown",
   "id": "2ec264f2",
   "metadata": {},
   "source": [
    "####  Let us name the conversion rate for the control group as proportion 1 (p1) and the conversion rate for the treatment group as proportion 2 (p2).\n",
    "\n",
    "\n",
    "#### H0: p1 = p2\n",
    "#### H1: p1 < p2 (left-tailed)"
   ]
  },
  {
   "cell_type": "code",
   "execution_count": 18,
   "id": "9d68ca6d",
   "metadata": {},
   "outputs": [],
   "source": [
    "def z_calc(p1, p2, n1, n2):\n",
    "    p_star = (p1*n1 + p2*n2) / (n1 + n2)\n",
    "    return (p2 - p1) / np.math.sqrt(p_star*(1 - p_star)*((1.0 / n1) + (1.0 / n2)))\n",
    "\n",
    "def sample_required(p1, p_diff, alpha):\n",
    "    if p_diff <= 0:  # p_diff = p2-p1\n",
    "        raise ValueError(\"p_diff must be > 0\")\n",
    "    n = 1\n",
    "    while True:\n",
    "        z = z_calc(p1, p1+p_diff, n1=n, n2=n)\n",
    "        p = 1 - stats.norm.cdf(z)\n",
    "        if p < alpha:\n",
    "            break\n",
    "        n += 1\n",
    "    return n\n"
   ]
  },
  {
   "cell_type": "code",
   "execution_count": 19,
   "id": "49518722",
   "metadata": {},
   "outputs": [],
   "source": [
    "sample_size = sample_required(df_gr[['proportion'][0]][0],\n",
    "                             (df_gr[['proportion'][0]][1] - df_gr[['proportion'][0]][0]),0.05)"
   ]
  },
  {
   "cell_type": "code",
   "execution_count": 20,
   "id": "52d2dfa6",
   "metadata": {},
   "outputs": [],
   "source": [
    "# Split the data into 2 dataframes for each group\n",
    "df_tr = df[df['test_group'] == 'treatment']\n",
    "df_ctrl = df[df['test_group'] == 'control']\n"
   ]
  },
  {
   "cell_type": "code",
   "execution_count": 21,
   "id": "310b97d1",
   "metadata": {},
   "outputs": [],
   "source": [
    "# Take random samples\n",
    "df_tr_sample = df_tr.sample(n=20000, random_state=23)\n",
    "df_ctrl_sample = df_ctrl.sample(n=20000, random_state=23)\n",
    "df_sample = pd.concat([df_tr_sample, df_ctrl_sample], ignore_index=True)"
   ]
  },
  {
   "cell_type": "code",
   "execution_count": 22,
   "id": "e512d0f0",
   "metadata": {},
   "outputs": [],
   "source": [
    "# Calculate proportions\n",
    "df_sample_gr = df_sample.groupby('test_group').agg({'converted':'sum',\n",
    "                                 'user_id':'nunique'}).reset_index()\n",
    "df_sample_gr.columns = ['test_group', 'converted', 'unique_users']\n",
    "df_sample_gr['proportion'] = (df_sample_gr['converted']) / df_sample_gr['unique_users']"
   ]
  },
  {
   "cell_type": "code",
   "execution_count": 23,
   "id": "e6b5e2dc",
   "metadata": {},
   "outputs": [
    {
     "data": {
      "text/html": [
       "<div>\n",
       "<style scoped>\n",
       "    .dataframe tbody tr th:only-of-type {\n",
       "        vertical-align: middle;\n",
       "    }\n",
       "\n",
       "    .dataframe tbody tr th {\n",
       "        vertical-align: top;\n",
       "    }\n",
       "\n",
       "    .dataframe thead th {\n",
       "        text-align: right;\n",
       "    }\n",
       "</style>\n",
       "<table border=\"1\" class=\"dataframe\">\n",
       "  <thead>\n",
       "    <tr style=\"text-align: right;\">\n",
       "      <th></th>\n",
       "      <th>test_group</th>\n",
       "      <th>converted</th>\n",
       "      <th>unique_users</th>\n",
       "      <th>proportion</th>\n",
       "    </tr>\n",
       "  </thead>\n",
       "  <tbody>\n",
       "    <tr>\n",
       "      <th>0</th>\n",
       "      <td>control</td>\n",
       "      <td>348</td>\n",
       "      <td>20000</td>\n",
       "      <td>0.01740</td>\n",
       "    </tr>\n",
       "    <tr>\n",
       "      <th>1</th>\n",
       "      <td>treatment</td>\n",
       "      <td>497</td>\n",
       "      <td>20000</td>\n",
       "      <td>0.02485</td>\n",
       "    </tr>\n",
       "  </tbody>\n",
       "</table>\n",
       "</div>"
      ],
      "text/plain": [
       "  test_group  converted  unique_users  proportion\n",
       "0    control        348         20000     0.01740\n",
       "1  treatment        497         20000     0.02485"
      ]
     },
     "execution_count": 23,
     "metadata": {},
     "output_type": "execute_result"
    }
   ],
   "source": [
    "df_sample_gr"
   ]
  },
  {
   "cell_type": "code",
   "execution_count": 24,
   "id": "95979fc9",
   "metadata": {},
   "outputs": [],
   "source": [
    "# Looking at df_sample_gr, let us fill in the success numbers and the total sample sizes for each group\n",
    "number_of_successes = [348, 497]\n",
    "total_sample_sizes = [20000, 20000]\n",
    "# Calculate z-test statistic and p-value\n",
    "test_stat, p_value = proportions_ztest(number_of_successes, total_sample_sizes, alternative='smaller')"
   ]
  },
  {
   "cell_type": "code",
   "execution_count": 26,
   "id": "0155eeb6",
   "metadata": {},
   "outputs": [
    {
     "name": "stdout",
     "output_type": "stream",
     "text": [
      "Computed z-tetst statistics =  -5.180769799760474\n",
      "Computed p-value =  1.1048602970777487e-07\n"
     ]
    }
   ],
   "source": [
    "print('Computed z-tetst statistics = ',test_stat)\n",
    "print('Computed p-value = ',p_value)"
   ]
  },
  {
   "cell_type": "code",
   "execution_count": null,
   "id": "6aff3a4e",
   "metadata": {},
   "outputs": [],
   "source": []
  }
 ],
 "metadata": {
  "kernelspec": {
   "display_name": "Python 3 (ipykernel)",
   "language": "python",
   "name": "python3"
  },
  "language_info": {
   "codemirror_mode": {
    "name": "ipython",
    "version": 3
   },
   "file_extension": ".py",
   "mimetype": "text/x-python",
   "name": "python",
   "nbconvert_exporter": "python",
   "pygments_lexer": "ipython3",
   "version": "3.9.12"
  }
 },
 "nbformat": 4,
 "nbformat_minor": 5
}
